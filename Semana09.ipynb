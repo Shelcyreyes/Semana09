{
  "nbformat": 4,
  "nbformat_minor": 0,
  "metadata": {
    "colab": {
      "provenance": [],
      "authorship_tag": "ABX9TyOWXCvhalH85XParbhsJ2LK",
      "include_colab_link": true
    },
    "kernelspec": {
      "name": "python3",
      "display_name": "Python 3"
    },
    "language_info": {
      "name": "python"
    }
  },
  "cells": [
    {
      "cell_type": "markdown",
      "metadata": {
        "id": "view-in-github",
        "colab_type": "text"
      },
      "source": [
        "<a href=\"https://colab.research.google.com/github/Shelcyreyes/Semana09/blob/main/Semana09.ipynb\" target=\"_parent\"><img src=\"https://colab.research.google.com/assets/colab-badge.svg\" alt=\"Open In Colab\"/></a>"
      ]
    },
    {
      "cell_type": "markdown",
      "source": [
        "# Introducción\n",
        "\n",
        "* Propósito del Manual\n",
        "\n",
        "Este manual tiene como objetivo guiar al lector en el manejo eficiente de fechas y tiempos en proyectos de ciencia de datos. A través de ejemplos prácticos y buenas prácticas, se busca facilitar la correcta manipulación, análisis y visualización de datos temporales, asegurando resultados precisos y coherentes en distintos contextos analíticos.\n",
        "\n",
        "* Importancia de la Gestión de Fechas y Tiempos en Ciencia de Datos\n",
        "\n",
        "La gestión adecuada de fechas y tiempos es fundamental en ciencia de datos, ya que muchas decisiones y patrones dependen del análisis temporal. Errores en la interpretación de zonas horarias, formatos o intervalos pueden afectar gravemente la calidad de los modelos y análisis. Un manejo correcto permite realizar series de tiempo, estudios estacionales, análisis predictivo y asegurar la consistencia en el procesamiento de datos provenientes de distintas fuentes.\n",
        "#Funciones de tiempo\n",
        "## **Descripción:**\n",
        "Las funciones de tiempo son herramientas proporcionadas por diversos lenguajes de programación y bibliotecas que permiten manipular, transformar y analizar datos temporales. Estas funciones facilitan tareas como la conversión de formatos de fecha y hora, la extracción de componentes temporales (día, mes, año, hora, etc.), la comparación de instantes temporales y el cálculo de diferencias entre fechas. Su uso es esencial para garantizar la correcta interpretación y procesamiento de información cronológicamente ordenada.\n",
        "## **Aplicabilidad**: Contextos Comunes\n",
        "Las funciones de tiempo son ampliamente utilizadas en diversos contextos, entre los que destacan:\n",
        "\n",
        "  * Series temporales: para modelar y predecir fenómenos que varían en el tiempo, como el clima, el tráfico o la demanda energética.\n",
        "\n",
        "  * Análisis financiero: para evaluar rendimientos, calcular tasas de interés, identificar tendencias y estacionalidades en precios de activos.\n",
        "\n",
        "  * Seguimiento de sensores: en IoT y sistemas de monitoreo, donde los datos deben registrarse y analizarse en función del momento exacto en que fueron capturados.\n",
        "\n",
        "  * Gestión de bases de datos: para programar eventos, auditorías y control de versiones basadas en marcas de tiempo.\n",
        "\n",
        "  * Visualización de datos: para generar gráficos cronológicos que faciliten la comprensión de la evolución de ciertos indicadores.\n",
        "  # CASOS PRÁCTICOS\n",
        "\n",
        "\n",
        "\n",
        "\n",
        "  \n"
      ],
      "metadata": {
        "id": "tPyxiHHyvXNH"
      }
    },
    {
      "cell_type": "code",
      "source": [
        "import pandas as pd\n",
        "# Crear un rango de fechas\n",
        "fechas = pd.date_range(start='2023-08-04', periods=100, freq='D')\n",
        "print(fechas)\n",
        "\n",
        "# Extraer elementos\n",
        "df = pd.DataFrame({'fechas': fechas})\n",
        "df['año'] = df['fechas'].dt.year\n",
        "df['mes'] = df['fechas'].dt.month\n",
        "df['día'] = df['fechas'].dt.day\n",
        "df['día_semana'] = df['fechas'].dt.day_name()"
      ],
      "metadata": {
        "colab": {
          "base_uri": "https://localhost:8080/"
        },
        "id": "w_YU6-po0qx5",
        "outputId": "3760dc36-f080-468d-8592-450f8a43edba",
        "collapsed": true
      },
      "execution_count": null,
      "outputs": [
        {
          "output_type": "stream",
          "name": "stdout",
          "text": [
            "DatetimeIndex(['2023-08-04', '2023-08-05', '2023-08-06', '2023-08-07',\n",
            "               '2023-08-08', '2023-08-09', '2023-08-10', '2023-08-11',\n",
            "               '2023-08-12', '2023-08-13', '2023-08-14', '2023-08-15',\n",
            "               '2023-08-16', '2023-08-17', '2023-08-18', '2023-08-19',\n",
            "               '2023-08-20', '2023-08-21', '2023-08-22', '2023-08-23',\n",
            "               '2023-08-24', '2023-08-25', '2023-08-26', '2023-08-27',\n",
            "               '2023-08-28', '2023-08-29', '2023-08-30', '2023-08-31',\n",
            "               '2023-09-01', '2023-09-02', '2023-09-03', '2023-09-04',\n",
            "               '2023-09-05', '2023-09-06', '2023-09-07', '2023-09-08',\n",
            "               '2023-09-09', '2023-09-10', '2023-09-11', '2023-09-12',\n",
            "               '2023-09-13', '2023-09-14', '2023-09-15', '2023-09-16',\n",
            "               '2023-09-17', '2023-09-18', '2023-09-19', '2023-09-20',\n",
            "               '2023-09-21', '2023-09-22', '2023-09-23', '2023-09-24',\n",
            "               '2023-09-25', '2023-09-26', '2023-09-27', '2023-09-28',\n",
            "               '2023-09-29', '2023-09-30', '2023-10-01', '2023-10-02',\n",
            "               '2023-10-03', '2023-10-04', '2023-10-05', '2023-10-06',\n",
            "               '2023-10-07', '2023-10-08', '2023-10-09', '2023-10-10',\n",
            "               '2023-10-11', '2023-10-12', '2023-10-13', '2023-10-14',\n",
            "               '2023-10-15', '2023-10-16', '2023-10-17', '2023-10-18',\n",
            "               '2023-10-19', '2023-10-20', '2023-10-21', '2023-10-22',\n",
            "               '2023-10-23', '2023-10-24', '2023-10-25', '2023-10-26',\n",
            "               '2023-10-27', '2023-10-28', '2023-10-29', '2023-10-30',\n",
            "               '2023-10-31', '2023-11-01', '2023-11-02', '2023-11-03',\n",
            "               '2023-11-04', '2023-11-05', '2023-11-06', '2023-11-07',\n",
            "               '2023-11-08', '2023-11-09', '2023-11-10', '2023-11-11'],\n",
            "              dtype='datetime64[ns]', freq='D')\n"
          ]
        }
      ]
    },
    {
      "cell_type": "markdown",
      "source": [
        "Usa un conjunto de datos con una columna de fechas e intenta:\n",
        "Calcular cuántos días han pasado desde una fecha determinada.\n",
        "Filtrar los datos por fechas."
      ],
      "metadata": {
        "id": "TQ5rSg9Qs5SL"
      }
    },
    {
      "cell_type": "code",
      "source": [
        "import pandas as pd\n",
        "fechas = pd.date_range(start='2022-07-01', periods=20, freq='D')\n",
        "df = pd.DataFrame({'fecha': fechas})\n",
        "df['días desde'] = (df['fecha'] - pd.to_datetime('2022-07-12')).dt.days\n",
        "df_filtrado = df[df['fecha'] > '2022-07-12']\n",
        "print(\"Días desde 2022-07-12:\")\n",
        "print(df)\n",
        "\n",
        "print(\"\\nFechas después del 12 de julio:\")\n",
        "print(df_filtrado)\n"
      ],
      "metadata": {
        "colab": {
          "base_uri": "https://localhost:8080/"
        },
        "collapsed": true,
        "id": "HUmJlKTlmN0J",
        "outputId": "84d078be-67a9-4288-c3db-b8d2df9c9a15"
      },
      "execution_count": null,
      "outputs": [
        {
          "output_type": "stream",
          "name": "stdout",
          "text": [
            "Días desde 2022-07-12:\n",
            "        fecha  días desde\n",
            "0  2022-07-01         -11\n",
            "1  2022-07-02         -10\n",
            "2  2022-07-03          -9\n",
            "3  2022-07-04          -8\n",
            "4  2022-07-05          -7\n",
            "5  2022-07-06          -6\n",
            "6  2022-07-07          -5\n",
            "7  2022-07-08          -4\n",
            "8  2022-07-09          -3\n",
            "9  2022-07-10          -2\n",
            "10 2022-07-11          -1\n",
            "11 2022-07-12           0\n",
            "12 2022-07-13           1\n",
            "13 2022-07-14           2\n",
            "14 2022-07-15           3\n",
            "15 2022-07-16           4\n",
            "16 2022-07-17           5\n",
            "17 2022-07-18           6\n",
            "18 2022-07-19           7\n",
            "19 2022-07-20           8\n",
            "\n",
            "Fechas después del 12 de julio:\n",
            "        fecha  días desde\n",
            "12 2022-07-13           1\n",
            "13 2022-07-14           2\n",
            "14 2022-07-15           3\n",
            "15 2022-07-16           4\n",
            "16 2022-07-17           5\n",
            "17 2022-07-18           6\n",
            "18 2022-07-19           7\n",
            "19 2022-07-20           8\n"
          ]
        }
      ]
    },
    {
      "cell_type": "markdown",
      "source": [
        "### Explicación actividad\n",
        "1. Generación de las fechas\n",
        "Se creó un rango de 20 fechas consecutivas a partir del 1 de julio de 2022.\n",
        "\n",
        "2. Cálculo de días desde una fecha específica\n",
        "Se definió como referencia el 12 de julio de 2022, y se calculó la cantidad de días que han pasado desde esa fecha para cada fila. Si el resultado es negativo, la fecha es anterior al 12 de julio.\n",
        "\n",
        "Si el resultado es negativo, la fecha es anterior al 12 de julio.\n",
        "Si es 0, es el mismo día.\n",
        "Si es positivo, la fecha es después.\n",
        "3. Filtrado por fechas posteriores\n",
        "Se aplicó un filtro para obtener únicamente las fechas posteriores al 12 de julio de 2022."
      ],
      "metadata": {
        "id": "gqmahGwxXkvm"
      }
    },
    {
      "cell_type": "markdown",
      "source": [
        "#**Jerarquía de Fechas**\n",
        "Organizar y agrupar datos por componentes temporales (como año, trimestre, mes, semana, etc.) es una práctica muy común en análisis de datos, especialmente cuando se trata de series temporales.\n",
        "## Aplicabilidad\n",
        "Es ideal para:\n",
        "\n",
        "Reportes mensuales/trimestrales\n",
        "\n",
        "Dashboards ejecutivos\n",
        "\n",
        "Análisis estacionales\n",
        "\n",
        "Pronósticos temporales\n"
      ],
      "metadata": {
        "id": "BR7Cir1VmzCm"
      }
    },
    {
      "cell_type": "code",
      "source": [
        "import numpy as np\n",
        "\n",
        "df = pd.DataFrame({\n",
        "    'fecha': pd.date_range(start='2023-01-01', periods=90, freq='D'),\n",
        "    'ventas': np.random.randint(100, 1000, size=90)\n",
        "})\n",
        "\n",
        "df['mes'] = df['fecha'].dt.to_period('M')\n",
        "ventas_mensuales = df.groupby('mes')['ventas'].sum()\n",
        "ventas_mensuales"
      ],
      "metadata": {
        "colab": {
          "base_uri": "https://localhost:8080/",
          "height": 209
        },
        "id": "QWlZ8fCjYfa0",
        "outputId": "d330de99-0103-48f3-e4ae-c24a9061dd81"
      },
      "execution_count": null,
      "outputs": [
        {
          "output_type": "execute_result",
          "data": {
            "text/plain": [
              "mes\n",
              "2023-01    17397\n",
              "2023-02    16721\n",
              "2023-03    15046\n",
              "Freq: M, Name: ventas, dtype: int64"
            ],
            "text/html": [
              "<div>\n",
              "<style scoped>\n",
              "    .dataframe tbody tr th:only-of-type {\n",
              "        vertical-align: middle;\n",
              "    }\n",
              "\n",
              "    .dataframe tbody tr th {\n",
              "        vertical-align: top;\n",
              "    }\n",
              "\n",
              "    .dataframe thead th {\n",
              "        text-align: right;\n",
              "    }\n",
              "</style>\n",
              "<table border=\"1\" class=\"dataframe\">\n",
              "  <thead>\n",
              "    <tr style=\"text-align: right;\">\n",
              "      <th></th>\n",
              "      <th>ventas</th>\n",
              "    </tr>\n",
              "    <tr>\n",
              "      <th>mes</th>\n",
              "      <th></th>\n",
              "    </tr>\n",
              "  </thead>\n",
              "  <tbody>\n",
              "    <tr>\n",
              "      <th>2023-01</th>\n",
              "      <td>17397</td>\n",
              "    </tr>\n",
              "    <tr>\n",
              "      <th>2023-02</th>\n",
              "      <td>16721</td>\n",
              "    </tr>\n",
              "    <tr>\n",
              "      <th>2023-03</th>\n",
              "      <td>15046</td>\n",
              "    </tr>\n",
              "  </tbody>\n",
              "</table>\n",
              "</div><br><label><b>dtype:</b> int64</label>"
            ]
          },
          "metadata": {},
          "execution_count": 45
        }
      ]
    },
    {
      "cell_type": "markdown",
      "source": [
        "# ACTIVIDAD"
      ],
      "metadata": {
        "id": "VFEShsaUY99g"
      }
    },
    {
      "cell_type": "code",
      "source": [
        "import pandas as pd\n",
        "import numpy as np\n",
        "import matplotlib.pyplot as plt\n",
        "\n",
        "df = pd.DataFrame({\n",
        "    'fecha': pd.date_range(start='2022-01-12', periods=90, freq='D'),\n",
        "    'ventas': np.random.randint(100, 1000, size=90)\n",
        "})\n",
        "\n",
        "df['trimestre'] = df['fecha'].dt.to_period('Q').astype(str)\n",
        "df['trimestre'] = df['trimestre'].apply(lambda x: f\"{x[:4]} - Trimestre {x[-1]}\")\n",
        "estadisticas = df.groupby('trimestre')['ventas'].agg(promedio='mean', minimo='min', maximo='max')\n",
        "\n",
        "print(\"Estadísticas por trimestre:\")\n",
        "print(estadisticas)\n",
        "\n",
        "df['mes'] = df['fecha'].dt.to_period('M')\n",
        "promedio_mensual = df.groupby('mes')['ventas'].mean()\n",
        "\n",
        "promedio_mensual.plot(kind='bar', color='skyblue')\n",
        "plt.title(\"Promedio de ventas por mes\")\n",
        "plt.xlabel(\"Mes\")\n",
        "plt.ylabel(\"Ventas\")\n",
        "plt.xticks(rotation=45)\n",
        "plt.tight_layout()\n",
        "plt.show()"
      ],
      "metadata": {
        "colab": {
          "base_uri": "https://localhost:8080/",
          "height": 578
        },
        "id": "XHH94Q4gYwtp",
        "outputId": "9e64eda6-30e9-424b-8943-64c7b8715aa1"
      },
      "execution_count": null,
      "outputs": [
        {
          "output_type": "stream",
          "name": "stdout",
          "text": [
            "Estadísticas por trimestre:\n",
            "                      promedio  minimo  maximo\n",
            "trimestre                                     \n",
            "2022 - Trimestre 1  587.873418     110     999\n",
            "2022 - Trimestre 2  641.272727     137     960\n"
          ]
        },
        {
          "output_type": "display_data",
          "data": {
            "text/plain": [
              "<Figure size 640x480 with 1 Axes>"
            ],
            "image/png": "[encoded data removed]"
          },
          "metadata": {}
        }
      ]
    },
    {
      "cell_type": "markdown",
      "source": [
        "## Explicación actividad\n",
        "1. Agrupación por trimestre con estadísticas descriptivas\n",
        "Generé un conjunto de datos con fechas diarias y valores de ventas aleatorios.\n",
        "Luego transformé la columna de fechas para agrupar por trimestres. Después, establecí un valor exacto (2022 - Trimestre 1).\n",
        "Finalmente agrupé los datos por trimestre y calculé tres estadísticas: promedio, mínimo y máximo.\n",
        "Permitiendome ver como variaron las ventas en cada trimestre.\n",
        "\n",
        "2. Visualización del promedio mensual de ventas\n",
        "Convertí la columa de fechas para obtener mes.\n",
        "Calculé el promedio de ventas por mes.\n",
        "Finalmente, hice una gráfica de barras para visualizar los resultados."
      ],
      "metadata": {
        "id": "uAU4C1zOZHqr"
      }
    },
    {
      "cell_type": "markdown",
      "source": [
        "# **Conclusiones**\n",
        "\n",
        "**Lo aprendido:**  \n",
        "Aprendí a manipular fechas en Pandas, calcular diferencias entre fechas y filtrar datos dentro de rangos temporales usando funciones como `.dt` y `pd.Timestamp()`.\n",
        "\n",
        "**Aplicaciones reales:**  \n",
        "- **Análisis de ventas**: Calcular el tiempo transcurrido desde un evento o filtrar ventas en periodos específicos.\n",
        "- **Finanzas**: Evaluar el rendimiento de inversiones o medir el tiempo hasta el vencimiento de instrumentos.\n",
        "- **Comportamiento de usuarios**: Calcular la actividad de usuarios en aplicaciones dentro de ciertos periodos.\n",
        "- **Control de inventario**: Filtrar datos de ventas dentro de periodos determinados.\n",
        "\n",
        "**Dificultades y soluciones:**  \n",
        "- **Formato de fechas**: Asegurar que las fechas estuvieran en el formato adecuado utilizando `pd.to_datetime()` o `pd.Timestamp()`.\n",
        "- **Filtrado por fechas**: Asegurar que tanto las fechas de inicio como las de fin estuvieran correctamente definidas como `Timestamp()`.\n",
        "- **Cálculo de diferencias**: Utilizar `.dt.days` para obtener la diferencia exacta en días entre fechas.\n",
        "\n",
        "En resumen, trabajar con fechas en Pandas es esencial para análisis de datos temporales en muchos ámbitos, y con las herramientas adecuadas, se pueden realizar tareas complejas de manera eficiente."
      ],
      "metadata": {
        "id": "OqZDJ_nHtbIk"
      }
    },
    {
      "cell_type": "code",
      "source": [
        "!git init\n",
        "!git remote add origin https://github.com/Shelcyreyes/Semana09.git"
      ],
      "metadata": {
        "colab": {
          "base_uri": "https://localhost:8080/"
        },
        "id": "1yVpoZsamH99",
        "outputId": "5e6d2bf0-c258-44a2-fb17-1d8bff360a26"
      },
      "execution_count": null,
      "outputs": [
        {
          "output_type": "stream",
          "name": "stdout",
          "text": [
            "Reinitialized existing Git repository in /content/Semana09/09-week/Semana09/09-week/Semana09/.git/\n",
            "error: remote origin already exists.\n"
          ]
        }
      ]
    },
    {
      "cell_type": "code",
      "source": [
        "!git config --global user.name \"Shelcyreyes\"\n",
        "!git config --global user.email \"sreyes-2023a@corhuila.edu.co\"\n",
        "\n",
        "!git add .\n",
        "!git commit -m \"Subiendo taller semana 09 desde Colab\"\n",
        "!git push origin main"
      ],
      "metadata": {
        "colab": {
          "base_uri": "https://localhost:8080/"
        },
        "id": "GTmSbCdzmNuZ",
        "outputId": "b2eb53ae-faf5-456d-b32c-4e9884692e6c"
      },
      "execution_count": null,
      "outputs": [
        {
          "output_type": "stream",
          "name": "stdout",
          "text": [
            "On branch main\n",
            "Your branch is up to date with 'origin/main'.\n",
            "\n",
            "nothing to commit, working tree clean\n",
            "Everything up-to-date\n"
          ]
        }
      ]
    },
    {
      "cell_type": "code",
      "source": [
        "!git remote set-url origin https://github.com/Shelcyreyes/Semana09.git"
      ],
      "metadata": {
        "id": "bPGxGGuRmX5m"
      },
      "execution_count": null,
      "outputs": []
    },
    {
      "cell_type": "code",
      "source": [
        "!git push origin main"
      ],
      "metadata": {
        "colab": {
          "base_uri": "https://localhost:8080/"
        },
        "id": "fkI8mpromk6Z",
        "outputId": "536718f7-a53e-4970-8feb-af4027f9fd4b"
      },
      "execution_count": null,
      "outputs": [
        {
          "output_type": "stream",
          "name": "stdout",
          "text": [
            "Everything up-to-date\n"
          ]
        }
      ]
    }
  ]
}